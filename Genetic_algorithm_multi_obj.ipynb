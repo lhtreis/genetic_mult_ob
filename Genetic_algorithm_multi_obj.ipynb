{
 "cells": [
  {
   "cell_type": "markdown",
   "metadata": {},
   "source": [
    "# Algoritmo Genético"
   ]
  },
  {
   "cell_type": "markdown",
   "metadata": {},
   "source": [
    "Desenvolvido por Alexandre Mundim."
   ]
  },
  {
   "cell_type": "markdown",
   "metadata": {},
   "source": [
    "# Importação de Pacotes e Bibliotecas"
   ]
  },
  {
   "cell_type": "markdown",
   "metadata": {},
   "source": [
    "Importação de pacotes com funções matemáticas, operações matriciais e plotagens."
   ]
  },
  {
   "cell_type": "code",
   "execution_count": 4,
   "metadata": {},
   "outputs": [],
   "source": [
    "import numpy as np\n",
    "import random\n",
    "import math\n",
    "import matplotlib.pyplot as plt\n",
    "from matplotlib.pyplot import figure\n",
    "%matplotlib inline"
   ]
  },
  {
   "cell_type": "markdown",
   "metadata": {},
   "source": [
    "# Funções Básicas e Auxiliares"
   ]
  },
  {
   "cell_type": "markdown",
   "metadata": {},
   "source": [
    "Grupo de funções básicas, responsáveis pelos processos de criação dos intervalos das variáveis e conversão entre binários e decimais.\n",
    "\n",
    "Ao receber do usuário os intervalos e seus respectivos números de bits, são criados dois dicionários. Estes são utilizados para a conversão entre números decimal e binário e vice-versa. Os dicionários possuem os números binários em strings.\n",
    "\n",
    "As demais funções desse grupo também fazem parte do processo de conversão, mas recebem arrays em suas entradas e fazem as transformações para strings e vice-versa."
   ]
  },
  {
   "cell_type": "code",
   "execution_count": 2,
   "metadata": {},
   "outputs": [],
   "source": [
    "def criação_intervalo(input_variaveis): # Array com intervalos inferior, superior e número de bits \n",
    "    \n",
    "    input_variaveis = np.asmatrix(input_variaveis)\n",
    "    intervalos = []\n",
    "    intervalos_invertidos = []\n",
    "\n",
    "    for variavel in input_variaveis:\n",
    "        max_intervalo = float(np.asarray(variavel[:, :2]).max())\n",
    "        min_intervalo = float(np.asarray(variavel[:, :2]).min())\n",
    "        n_bits = int(variavel[:, 2:])\n",
    "        \n",
    "        # Criação de bins\n",
    "        \n",
    "        tamanho_intervalo = max_intervalo - min_intervalo + 1\n",
    "        qtd_numeros_representaveis = 2**n_bits\n",
    "        tamanho_bin = (tamanho_intervalo)/qtd_numeros_representaveis\n",
    "        lista_bins = np.linspace(min_intervalo, max_intervalo, qtd_numeros_representaveis).tolist()\n",
    "        \n",
    "        \n",
    "        # Criação de lista de conversor decimal-binario:\n",
    "\n",
    "        lista_binarios = []\n",
    "        formato_binario = (str('#0'+str(n_bits+2)+'b'))\n",
    "        i = 0\n",
    "        while i < qtd_numeros_representaveis:\n",
    "            lista_binarios.append(format(i, formato_binario))\n",
    "            i = i + 1\n",
    "\n",
    "        intervalo = dict(zip(lista_bins, lista_binarios))\n",
    "        intervalo_invertido = {v: k for k, v in intervalo.items()}\n",
    "        \n",
    "        intervalos.append(intervalo)\n",
    "        intervalos_invertidos.append(intervalo_invertido)\n",
    "        \n",
    "    return intervalos, intervalos_invertidos"
   ]
  },
  {
   "cell_type": "code",
   "execution_count": 3,
   "metadata": {},
   "outputs": [],
   "source": [
    "def conversor_dec_bin(input_valores, input_dicionarios):\n",
    "    valores_convertidos = []\n",
    "\n",
    "    for dicionario, linha in enumerate(input_valores):\n",
    "        array = [*input_dicionarios[dicionario]]\n",
    "        max_intervalo = max(array)\n",
    "        min_intervalo = min(array)\n",
    "\n",
    "        array = np.asarray(array)\n",
    "\n",
    "        valores_convertidos_por_variavel = []\n",
    "\n",
    "        for valor in linha:\n",
    "\n",
    "            if (valor > max_intervalo) or (valor < min_intervalo):\n",
    "                raise ValueError('Erro. Valor fora do intervalo')\n",
    "\n",
    "            idx = (np.abs(array - valor)).argmin()\n",
    "\n",
    "            valores_convertidos_por_variavel.append(input_dicionarios[dicionario].get(array[idx]))\n",
    "\n",
    "        valores_convertidos.append(valores_convertidos_por_variavel)\n",
    "        \n",
    "    return valores_convertidos"
   ]
  },
  {
   "cell_type": "code",
   "execution_count": 4,
   "metadata": {},
   "outputs": [],
   "source": [
    "def conversor_bin_dec(input_binarios, input_dicionarios):\n",
    "    \n",
    "    input_dicionarios = intervalos_invertidos\n",
    "\n",
    "    binarios_convertidos = []\n",
    "\n",
    "    for idx, linha in enumerate(input_binarios):\n",
    "\n",
    "        binarios_convertidos_por_variavel = []\n",
    "\n",
    "        for binario in linha:\n",
    "            formato_binario = str('#0'+str(len([*input_dicionarios[idx]][1]))+'b')\n",
    "            binario = int(str(binario), 2)\n",
    "            binario = format(binario, formato_binario)\n",
    "\n",
    "            if (2**(len(binario)-2)) > (len(input_dicionarios[idx])):\n",
    "                raise ValueError('Erro. Valor fora do intervalo')\n",
    "            else: \n",
    "                binarios_convertidos_por_variavel.append(input_dicionarios[idx].get(binario))\n",
    "\n",
    "        binarios_convertidos.append(binarios_convertidos_por_variavel)\n",
    "\n",
    "    return binarios_convertidos"
   ]
  },
  {
   "cell_type": "code",
   "execution_count": 5,
   "metadata": {},
   "outputs": [],
   "source": [
    "def conversor_bin_vetor(input_strings_binarias):\n",
    "    \n",
    "    vetores_binarios = []\n",
    "\n",
    "    for linha in input_strings_binarias:\n",
    "        vetores_binarios_por_variavel = []\n",
    "\n",
    "        for string_binaria in linha:\n",
    "            vetores_binarios_por_variavel.append([int(caractere) for caractere in str(string_binaria)[2:]])\n",
    "\n",
    "        vetores_binarios.append(vetores_binarios_por_variavel)\n",
    "    \n",
    "    return vetores_binarios"
   ]
  },
  {
   "cell_type": "code",
   "execution_count": 6,
   "metadata": {},
   "outputs": [],
   "source": [
    "def conversor_vetor_bin(input_vetores_binario):\n",
    "    \n",
    "    valores_binarios = []\n",
    "\n",
    "    for linha in input_vetores_binario:\n",
    "        valores_binarios_por_linha = []\n",
    "        for valor in linha:\n",
    "            valores_binarios_por_linha.append(('0b'+''.join(str(bit) for bit in valor)))\n",
    "\n",
    "        valores_binarios.append(valores_binarios_por_linha)\n",
    "\n",
    "    return valores_binarios"
   ]
  },
  {
   "cell_type": "code",
   "execution_count": 7,
   "metadata": {},
   "outputs": [],
   "source": [
    "def decimal2binario(input_vetores_decimais, input_intervalos):\n",
    "    strings_binarias = conversor_dec_bin(input_vetores_decimais, input_intervalos)\n",
    "    vetores_binarios = conversor_bin_vetor(strings_binarias)\n",
    "    return vetores_binarios"
   ]
  },
  {
   "cell_type": "code",
   "execution_count": 8,
   "metadata": {},
   "outputs": [],
   "source": [
    "def binario2decimal(vetores_binarios, input_intervalos_invertidos):\n",
    "    strings_binarias = conversor_vetor_bin(vetores_binarios)\n",
    "    valores_decimais = conversor_bin_dec(strings_binarias, input_intervalos_invertidos)\n",
    "    return valores_decimais"
   ]
  },
  {
   "cell_type": "markdown",
   "metadata": {},
   "source": [
    "Em seguida, apresentamos funções auxiliares utilizadas no algoritmo genético. Essas incluem funções para transposição de matrizes, plots, etc."
   ]
  },
  {
   "cell_type": "code",
   "execution_count": 9,
   "metadata": {},
   "outputs": [],
   "source": [
    "def transposta(input_matrix):\n",
    "    matrix_array = np.asarray(input_matrix)\n",
    "    return matrix_array.T"
   ]
  },
  {
   "cell_type": "code",
   "execution_count": 10,
   "metadata": {},
   "outputs": [],
   "source": [
    "# Função geral: gera vetor transposto da população e aplica função selecionada\n",
    "\n",
    "def funções(input_função, input_pop_decimal):\n",
    "    \n",
    "    pop_decimal_transposta = transposta(input_pop_decimal)\n",
    "    \n",
    "    return input_função(pop_decimal_transposta)"
   ]
  },
  {
   "cell_type": "code",
   "execution_count": 11,
   "metadata": {},
   "outputs": [],
   "source": [
    "# QUAL A FINALIDADE DA FUNÇÃO? \n",
    "def flat_pop(input_pop):\n",
    "\n",
    "    n_individuo = 0\n",
    "    pop_flat = []\n",
    "\n",
    "    while n_individuo < len(input_pop[0]):\n",
    "        individuo = []\n",
    "        n_variavel = 0\n",
    "        while n_variavel < len(input_pop):\n",
    "            for bit in (input_pop[n_variavel][n_individuo]):\n",
    "                individuo.append(bit)\n",
    "            n_variavel = n_variavel + 1\n",
    "        \n",
    "        n_individuo = n_individuo + 1\n",
    "        pop_flat.append(individuo)\n",
    "\n",
    "    return pop_flat"
   ]
  },
  {
   "cell_type": "code",
   "execution_count": 12,
   "metadata": {},
   "outputs": [],
   "source": [
    "#QUAL A FINALIDADE DA FUNÇÃO?\n",
    "def unflat_pop(input_pop_aux):\n",
    "\n",
    "    unflat_pop = []\n",
    "    unflat_variavel = []\n",
    "\n",
    "    for idx_individuo, individuo in enumerate(input_pop_aux):\n",
    "        count_acum = 0\n",
    "        for idx, variavel in enumerate(vetor_n_bits):\n",
    "            unflat_variavel = []\n",
    "            count_aux = 0\n",
    "            while count_aux < variavel:\n",
    "                unflat_variavel.append(input_pop_aux[idx_individuo][count_acum])\n",
    "                count_aux = count_aux + 1\n",
    "                count_acum = count_acum + 1\n",
    "\n",
    "            unflat_pop.append(unflat_variavel)\n",
    "\n",
    "    output_pop = []\n",
    "\n",
    "    for idx, variavel in enumerate(vetor_n_bits):\n",
    "        armazenamento_por_variavel = []\n",
    "        count = idx\n",
    "        while count < len(unflat_pop):\n",
    "            armazenamento_por_variavel.append(unflat_pop[count])\n",
    "            count = count + len(vetor_n_bits)\n",
    "\n",
    "        output_pop.append(armazenamento_por_variavel)\n",
    "\n",
    "    return output_pop"
   ]
  },
  {
   "cell_type": "code",
   "execution_count": 13,
   "metadata": {},
   "outputs": [],
   "source": [
    "def plot_resultados(resultados, media_resultados):\n",
    "    \n",
    "    # Resultado Geral\n",
    "    plt.plot(resultados, 'blue')\n",
    "        \n",
    "    plt.title('Resultado Geral')\n",
    "    plt.xlabel('Geração')\n",
    "    plt.ylabel('f(x)')\n",
    "    plt.legend(['Melhor Performance da Geração'])\n",
    "    plt.rcParams['figure.figsize'] = (20,10)\n",
    "\n",
    "    plt.figure()\n",
    "    \n",
    "    # Resultado Médio\n",
    "    plt.plot(media_resultados, 'black')\n",
    "\n",
    "    plt.title('Resultado Médio')\n",
    "    plt.xlabel('Geração')\n",
    "    plt.ylabel('f(x)')\n",
    "    plt.legend(['Performance Média da Geração'])\n",
    "    plt.rcParams['figure.figsize'] = (20,10)\n",
    "\n",
    "    plt.figure()"
   ]
  },
  {
   "cell_type": "markdown",
   "metadata": {},
   "source": [
    "# Iniciação da População"
   ]
  },
  {
   "cell_type": "code",
   "execution_count": 14,
   "metadata": {},
   "outputs": [],
   "source": [
    "def iniciar_população(input_n_individuos, input_vetor_n_bits, input_seed):\n",
    "\n",
    "    random.seed(input_seed)\n",
    "    pop = []\n",
    "    n_var = len(input_vetor_n_bits)\n",
    "\n",
    "    for linha in range(0, input_n_individuos):\n",
    "        individuo = []\n",
    "        for coluna in range(0, sum(input_vetor_n_bits)):\n",
    "            aleatorio = random.uniform(0, 1)\n",
    "            individuo.append(round(aleatorio))\n",
    "        pop.append(individuo)\n",
    "\n",
    "    # Divide a população da seguinte forma:\n",
    "    # pop_por_variavel = [[indiviuos_variavel_1], [indiviuos_variavel_2], [indiviuos_variavel_3], [indiviuos_variavel_n]]\n",
    "\n",
    "    bits_inicio = [0] + input_vetor_n_bits[:-1]\n",
    "    bits_termino = np.cumsum(input_vetor_n_bits).tolist()\n",
    "\n",
    "    pop_por_variavel = [l.tolist() for l in np.split(np.array(pop), bits_termino, axis=1)][:-1]\n",
    "\n",
    "    return pop_por_variavel"
   ]
  },
  {
   "cell_type": "markdown",
   "metadata": {},
   "source": [
    "# Métodos de Seleção"
   ]
  },
  {
   "cell_type": "code",
   "execution_count": 15,
   "metadata": {},
   "outputs": [],
   "source": [
    "def seleção(input_método_seleção, input_fx, input_tipo_otimização):\n",
    "    return input_método_seleção(input_fx, input_tipo_otimização)"
   ]
  },
  {
   "cell_type": "code",
   "execution_count": 16,
   "metadata": {},
   "outputs": [],
   "source": [
    "def método_seleção_roleta(input_fx, input_tipo_otimização):\n",
    "    \n",
    "    roleta_soma = sum(input_fx)\n",
    "    roleta_soma = np.array(roleta_soma)\n",
    "    roleta_média = np.mean(input_fx)\n",
    "    roleta_máximo = np.max(input_fx)\n",
    "    \n",
    "    if input_tipo_otimização == 'max': # Se max\n",
    "        fi_sobre_roleta_soma = input_fx/roleta_soma\n",
    "        prob_se_max = fi_sobre_roleta_soma\n",
    "        roleta_probabilidade_acum = np.cumsum(prob_se_max)  \n",
    "    else: # Se min\n",
    "        prob_se_min = ((roleta_soma/input_fx)/(sum(roleta_soma/input_fx)))\n",
    "        roleta_probabilidade_acum = np.cumsum(prob_se_min)  \n",
    "\n",
    "    índices_pais = []\n",
    "\n",
    "    # Performa os trials:\n",
    "    n_giro_roleta = 0\n",
    "    while n_giro_roleta < n_individuos:\n",
    "        idx = (np.abs(roleta_probabilidade_acum - random.uniform(0, 1))).argmin()\n",
    "        índices_pais.append(idx)\n",
    "        n_giro_roleta = n_giro_roleta + 1\n",
    "\n",
    "    return índices_pais"
   ]
  },
  {
   "cell_type": "code",
   "execution_count": 17,
   "metadata": {},
   "outputs": [],
   "source": [
    "def método_seleção_roleta_log(input_fx, input_tipo_otimização):\n",
    "    \n",
    "    roleta_soma = sum(np.log(input_fx))\n",
    "    roleta_soma = np.array(roleta_soma)\n",
    "    roleta_média = np.mean(np.log(input_fx))\n",
    "    roleta_máximo = np.max(np.log(input_fx))\n",
    "    \n",
    "    if input_tipo_otimização == 'max': # Se max\n",
    "        fi_sobre_roleta_soma = np.log(input_fx)/roleta_soma\n",
    "        prob_se_max = fi_sobre_roleta_soma\n",
    "        roleta_probabilidade_acum = np.cumsum(prob_se_max)  \n",
    "    else: # Se min\n",
    "        prob_se_min = ((roleta_soma/np.log(input_fx))/(sum(roleta_soma/np.log(input_fx))))\n",
    "        roleta_probabilidade_acum = np.cumsum(prob_se_min)  \n",
    "\n",
    "    índices_pais = []\n",
    "\n",
    "    # Performa os trials:\n",
    "    n_giro_roleta = 0\n",
    "    while n_giro_roleta < n_individuos:\n",
    "        idx = (np.abs(roleta_probabilidade_acum - random.uniform(0, 1))).argmin()\n",
    "        índices_pais.append(idx)\n",
    "        n_giro_roleta = n_giro_roleta + 1\n",
    "\n",
    "    return índices_pais"
   ]
  },
  {
   "cell_type": "code",
   "execution_count": 18,
   "metadata": {},
   "outputs": [],
   "source": [
    "def método_seleção_torneio(input_fx, input_tipo_otimização):\n",
    "    # Gera dois arrays com números aleatórios   \n",
    "    # Compara qual indivíduo tem a melhor performance conforme tipo de otimização\n",
    "    \n",
    "    pais = np.random.randint(len(input_fx), size=(2, len(input_fx)))\n",
    "    idx_a = pais[0, :]\n",
    "    idx_b = pais[1, :]\n",
    "    fx_a = np.array(input_fx)[idx_a.astype(int)]\n",
    "    fx_b = np.array(input_fx)[idx_b.astype(int)]\n",
    "\n",
    "    # se max:\n",
    "    if input_tipo_otimização == 'max':\n",
    "        selecionados = np.array(fx_a) > np.array(fx_b)\n",
    "    # se min:\n",
    "    else:\n",
    "        selecionados = np.array(fx_a) < np.array(fx_b)\n",
    "\n",
    "    índices_pais = []\n",
    "    for idx, item in enumerate(selecionados):\n",
    "        if item == True:\n",
    "            índices_pais.append(idx_a[idx])\n",
    "        else:\n",
    "            índices_pais.append(idx_b[idx])\n",
    "            \n",
    "    return índices_pais"
   ]
  },
  {
   "cell_type": "code",
   "execution_count": 19,
   "metadata": {},
   "outputs": [],
   "source": [
    "def metodo_selecao_torneio(input_fx, input_tipo_otimizacao):\n",
    "    # Gera dois arrays com números aleatórios   \n",
    "    # Compara qual individuo tem a melhor performance conforme tipo de otimizacao\n",
    "    \n",
    "    n_torneio = 0\n",
    "    n_torneios = 2\n",
    "    \n",
    "    while n_torneio < n_torneios:\n",
    "    \n",
    "        if n_torneio == 0:\n",
    "            pais = np.random.randint(len(input_fx), size=(2, len(input_fx)))\n",
    "            idx_a = pais[0, :]\n",
    "            idx_b = pais[1, :]\n",
    "        else:\n",
    "            idx_a = np.random.permutation(indices_pais)\n",
    "            idx_b = np.random.permutation(indices_pais)\n",
    "            \n",
    "        fx_a = np.array(input_fx)[idx_a.astype(int)]\n",
    "        fx_b = np.array(input_fx)[idx_b.astype(int)]\n",
    "\n",
    "        # se max:\n",
    "        if input_tipo_otimizacao == 'max':\n",
    "            selecionados = np.array(fx_a) > np.array(fx_b)\n",
    "        # se min:\n",
    "        else:\n",
    "            selecionados = np.array(fx_a) < np.array(fx_b)\n",
    "\n",
    "        indices_pais = []\n",
    "        for idx, item in enumerate(selecionados):\n",
    "            if item == True:\n",
    "                indices_pais.append(idx_a[idx])\n",
    "            else:\n",
    "                indices_pais.append(idx_b[idx])\n",
    "                \n",
    "        n_torneio = n_torneio + 1\n",
    "\n",
    "    return indices_pais"
   ]
  },
  {
   "cell_type": "markdown",
   "metadata": {},
   "source": [
    "# Métodos de Cruzamento"
   ]
  },
  {
   "cell_type": "code",
   "execution_count": 20,
   "metadata": {},
   "outputs": [],
   "source": [
    "def cruzamento(input_método_cruzamento, input_índices_pop_aux, input_pop, input_probabilidade_cruzamento):\n",
    "    return input_método_cruzamento(input_índices_pop_aux, input_pop, input_probabilidade_cruzamento)"
   ]
  },
  {
   "cell_type": "code",
   "execution_count": 21,
   "metadata": {},
   "outputs": [],
   "source": [
    "def cruzamento_um_ponto(input_índices_pop_aux, input_pop, input_probabilidade_cruzamento):\n",
    "\n",
    "    pais = np.random.randint(len(input_índices_pop_aux), size=(2, int(len(input_índices_pop_aux)/2)))\n",
    "\n",
    "    idx_a = pais[0, :]\n",
    "    idx_b = pais[1, :]\n",
    "\n",
    "    pop_matriz = flat_pop(input_pop)\n",
    "\n",
    "    len_individuo = len(pop_matriz[0])\n",
    "\n",
    "    pop_aux = []\n",
    "    cruzamento = 0\n",
    "        \n",
    "    while cruzamento < (len(idx_a)):\n",
    "\n",
    "        # Definições do cruzamento\n",
    "        ponto_cruzamento = int(random.uniform(1, len_individuo)) # Sorteio de ponto de corte. Na nossa implementação, cada cruzamento tem um ponto de corte diferente\n",
    "        probabilidade_cruzamento = random.uniform(0,1) # Se maior ou igual que a input_probabilidade_cruzamento, define se haverá ou não cruzamento\n",
    "        \n",
    "        # Define pais\n",
    "        pai_a = pop_matriz[idx_a[cruzamento]]\n",
    "        pai_b = pop_matriz[idx_b[cruzamento]]\n",
    "\n",
    "        novo_individuo = []\n",
    "\n",
    "        # POSSIBILIDADE A: Se houver cruzamento\n",
    "        if input_probabilidade_cruzamento >= probabilidade_cruzamento:   \n",
    "\n",
    "            # Executa o cruzamento\n",
    "            filho_a = pai_a[:ponto_cruzamento] + pai_b[ponto_cruzamento:]\n",
    "            filho_b = pai_b[:ponto_cruzamento] + pai_a[ponto_cruzamento:]\n",
    "\n",
    "            pop_aux.append(filho_a)\n",
    "            pop_aux.append(filho_b)\n",
    "\n",
    "        # POSSIBILIDADE B: Se não houver cruzamento passa os pais adiante\n",
    "        else:\n",
    "\n",
    "            pop_aux.append(pai_a)\n",
    "            pop_aux.append(pai_b)\n",
    "\n",
    "        cruzamento = cruzamento + 1 \n",
    "    return pop_aux"
   ]
  },
  {
   "cell_type": "code",
   "execution_count": 22,
   "metadata": {},
   "outputs": [],
   "source": [
    "def cruzamento_uniforme(input_índices_pop_aux, input_pop, input_probabilidade_cruzamento):\n",
    "\n",
    "    pais = np.random.randint(len(input_índices_pop_aux), size=(2, int(len(input_índices_pop_aux)/2)))\n",
    "\n",
    "    idx_a = pais[0, :]\n",
    "    idx_b = pais[1, :]\n",
    "\n",
    "    pop_matriz = flat_pop(input_pop)\n",
    "\n",
    "    len_individuo = len(pop_matriz[0])\n",
    "\n",
    "    pop_aux = []\n",
    "    cruzamento = 0\n",
    "        \n",
    "    while cruzamento < (len(idx_a)):\n",
    "\n",
    "        # Definições do cruzamento\n",
    "#         ponto_cruzamento = int(random.uniform(1, len_individuo)) # Sorteio de ponto de corte. Na nossa implementação, cada cruzamento tem um ponto de corte diferente\n",
    "        probabilidade_cruzamento = random.uniform(0,1) # Se maior ou igual que a input_probabilidade_cruzamento, define se haverá ou não cruzamento\n",
    "        \n",
    "        # Define pais\n",
    "        pai_a = pop_matriz[idx_a[cruzamento]]\n",
    "        pai_b = pop_matriz[idx_b[cruzamento]]\n",
    "\n",
    "        # POSSIBILIDADE A: Se houver cruzamento\n",
    "        if input_probabilidade_cruzamento >= probabilidade_cruzamento:   \n",
    "\n",
    "            # Executa o cruzamento\n",
    "            mascara_1 = np.random.choice([0, 1], size=len(pai_a))\n",
    "            mascara_2 = np.logical_not(mascara_1)\n",
    "        \n",
    "            filho_a = np.array(pai_a)*mascara_1 + np.array(pai_b)*mascara_2\n",
    "            filho_b = np.array(pai_b)*mascara_1 + np.array(pai_a)*mascara_2\n",
    "\n",
    "            pop_aux.append(filho_a)\n",
    "            pop_aux.append(filho_b)\n",
    "\n",
    "        # POSSIBILIDADE B: Se não houver cruzamento passa os pais adiante\n",
    "        else:\n",
    "\n",
    "            pop_aux.append(pai_a)\n",
    "            pop_aux.append(pai_b)\n",
    "\n",
    "        cruzamento = cruzamento + 1 \n",
    "    return pop_aux"
   ]
  },
  {
   "cell_type": "markdown",
   "metadata": {},
   "source": [
    "# Métodos de Mutação"
   ]
  },
  {
   "cell_type": "code",
   "execution_count": 23,
   "metadata": {},
   "outputs": [],
   "source": [
    "def mutação(input_método_mutação, input_pop_aux, input_probabilidade_mutação):\n",
    "    return input_método_mutação(input_pop_aux, input_probabilidade_mutação)"
   ]
  },
  {
   "cell_type": "code",
   "execution_count": 24,
   "metadata": {},
   "outputs": [],
   "source": [
    "def mutação_um_ponto(input_pop_aux, input_probabilidade_mutação):\n",
    "    # Seleciona quantidade de indivíduos igual à probabilidade de mutação (1)\n",
    "    # Seleciona bit aleatório de variável aleatória (2)\n",
    "    # Inverte bit (3)\n",
    "    # Insere indivíduo na população (4)\n",
    "    \n",
    "    # (1)\n",
    "    n_mutações = 0\n",
    "    len_indivíduo = len(pop_aux[0])\n",
    "\n",
    "    while n_mutações < round(input_probabilidade_mutação*len(pop_aux)):\n",
    "\n",
    "        # (2)\n",
    "        índice_indivíduo_aleatório = int(random.uniform(0, len(pop_aux)))\n",
    "\n",
    "        # Seleção do bit aleatório\n",
    "        posição_bit_aleatório = int(random.uniform(0, len_indivíduo))\n",
    "\n",
    "        valor_bit_aleatório = pop_aux[índice_indivíduo_aleatório][posição_bit_aleatório]\n",
    "\n",
    "        # (3)\n",
    "        if valor_bit_aleatório == 0:\n",
    "            novo_bit = 1\n",
    "        else:\n",
    "            novo_bit = 0\n",
    "\n",
    "        # (4)\n",
    "        pop_aux[índice_indivíduo_aleatório][posição_bit_aleatório] = novo_bit\n",
    "\n",
    "        n_mutações = n_mutações + 1\n",
    "        \n",
    "    return pop_aux"
   ]
  },
  {
   "cell_type": "code",
   "execution_count": 25,
   "metadata": {},
   "outputs": [],
   "source": [
    "# def mutação_um_ponto(input_pop_aux, input_probabilidade_mutação):\n",
    "#     # Para cada bit de cada indivíduo (1)\n",
    "#     # Gera número aleatório entre 0 e 1 (2)\n",
    "#     # Se número aleatório for menor ou igual à probabilidade de mutação (3)\n",
    "#     # Inverte bit (4)\n",
    "#     # Insere indivíduo na população (5)\n",
    "\n",
    "#     i = 0\n",
    "#     while i < len(input_pop_aux):\n",
    "#         b = 0\n",
    "#         while b < len(input_pop_aux[i]):\n",
    "#             # (2) e (3)\n",
    "#             if random.uniform(0, 1) <= input_probabilidade_mutação:\n",
    "#                 # (4) e (5)\n",
    "#                 input_pop_aux[i][b] = int(not(input_pop_aux[i][b]))\n",
    "#             b = b + 1\n",
    "#         i = i + 1\n",
    "#     return input_pop_aux"
   ]
  },
  {
   "cell_type": "code",
   "execution_count": 26,
   "metadata": {},
   "outputs": [],
   "source": [
    "def reverse_sequencing_mutation(input_pop_aux, input_probabilidade_mutação):\n",
    "    \n",
    "    pop_aux = []\n",
    "    len_indivíduo = len(input_pop_aux[0])\n",
    "    \n",
    "    for individuo_original in input_pop_aux:\n",
    "        \n",
    "#         print('===')\n",
    "        \n",
    "        bit_inicial = random.randint(0, len_indivíduo - 1)\n",
    "        qtd_maxima_bits = round(input_probabilidade_mutação*len_indivíduo)\n",
    "        \n",
    "#         print(individuo_original, bit_inicial, qtd_maxima_bits)\n",
    "        \n",
    "        if (bit_inicial + qtd_maxima_bits) < len_indivíduo - 1:\n",
    "            bit_final = random.randint(bit_inicial + 1, bit_inicial + qtd_maxima_bits + 1)\n",
    "#             print('A', bit_final)\n",
    "        else:\n",
    "            bit_final = len_indivíduo\n",
    "#             print('B', bit_final)\n",
    "            \n",
    "#         print(bit_final)\n",
    "            \n",
    "        segmento = individuo_original[bit_inicial : bit_final]\n",
    "        segmento_invertido = segmento[::-1]\n",
    "        \n",
    "        novo_individuo = individuo_original[0:bit_inicial] + segmento_invertido + individuo_original[bit_final:len_indivíduo]\n",
    "#         print('SAÍDA: ', segmento, segmento_invertido, novo_individuo)\n",
    "    \n",
    "        pop_aux.append(novo_individuo)\n",
    "    \n",
    "    return pop_aux"
   ]
  },
  {
   "cell_type": "markdown",
   "metadata": {},
   "source": [
    "# Métodos de Elitismo"
   ]
  },
  {
   "cell_type": "code",
   "execution_count": 27,
   "metadata": {},
   "outputs": [],
   "source": [
    "def elitismo(input_fx_elite, input_pop_matriz_elite, input_fx_aux, input_pop_aux, input_tipo_otimização, input_qtd_individuos_elitismo):\n",
    "    \n",
    "    # f(x) elite\n",
    "    concat_fx = input_fx_elite + input_fx_aux\n",
    "    índices_elite_aux = np.argsort(concat_fx)\n",
    "    \n",
    "    concat_pop = input_pop_matriz_elite + input_pop_aux\n",
    "    \n",
    "    if input_tipo_otimização == 'max':\n",
    "        índices_elite_final = índices_elite_aux[-int(len(concat_pop)-input_qtd_individuos_elitismo):]\n",
    "\n",
    "    else:\n",
    "        índices_elite_final = índices_elite_aux[:int(len(concat_pop)-input_qtd_individuos_elitismo)]\n",
    "    \n",
    "    pop_matriz_final = []\n",
    "    \n",
    "    for índice_elite_final in índices_elite_final:\n",
    "        pop_matriz_final.append(concat_pop[índice_elite_final])\n",
    "    \n",
    "    return pop_matriz_final"
   ]
  },
  {
   "cell_type": "markdown",
   "metadata": {},
   "source": [
    "# Funções de Teste"
   ]
  },
  {
   "cell_type": "markdown",
   "metadata": {},
   "source": [
    "Grupo de funções utilizadas para validação do algoritmo."
   ]
  },
  {
   "cell_type": "code",
   "execution_count": 28,
   "metadata": {},
   "outputs": [],
   "source": [
    "def função_sphere(input_pop_decimal_transposta):\n",
    "    y = []\n",
    "    for individuo in input_pop_decimal_transposta:\n",
    "        y.append(sum(np.square(individuo)))\n",
    "        \n",
    "    return y"
   ]
  },
  {
   "cell_type": "code",
   "execution_count": 29,
   "metadata": {
    "scrolled": true
   },
   "outputs": [],
   "source": [
    "def função_rastringin(input_pop_decimal_transposta):\n",
    "\n",
    "    y = []\n",
    " \n",
    "    for individuo in input_pop_decimal_transposta:\n",
    "        rastringin = 0\n",
    "        termo_1 = 10*len(individuo)\n",
    "        termo_2 = 0\n",
    "        for xi in individuo:\n",
    "            termo_2 = termo_2 + (xi**2)-10*(math.cos(2*xi*(math.pi)))\n",
    "            \n",
    "        rastringin = termo_1 + termo_2\n",
    "        y.append(rastringin)\n",
    "        \n",
    "    return y"
   ]
  },
  {
   "cell_type": "code",
   "execution_count": 30,
   "metadata": {},
   "outputs": [],
   "source": [
    "def função_rosenbrock(input_pop_decimal_transposta):\n",
    "\n",
    "    y = []\n",
    "    \n",
    "    for individuo in input_pop_decimal_transposta:\n",
    "        \n",
    "        rosenbrock = 0\n",
    "        \n",
    "        for idx, xi in enumerate(individuo):         \n",
    "            if idx == (len(individuo)-1):\n",
    "                break\n",
    "            \n",
    "            rosenbrock = rosenbrock + (100*(((xi**2)-individuo[idx+1])**2)+((1-xi)**2))\n",
    "        \n",
    "        y.append(rosenbrock)\n",
    "        \n",
    "    return y"
   ]
  },
  {
   "cell_type": "code",
   "execution_count": 31,
   "metadata": {},
   "outputs": [],
   "source": [
    "def função_de_jong_step(input_pop_decimal_transposta):\n",
    "\n",
    "    y = []\n",
    "    \n",
    "    for individuo in input_pop_decimal_transposta:\n",
    "        \n",
    "        de_jong_step = 0\n",
    "        \n",
    "        for xi in individuo:\n",
    "            de_jong_step = de_jong_step + abs(round(xi)) # O módulo (abs) foi utilizado para ajustar a função para minimização\n",
    "        \n",
    "        y.append(de_jong_step)\n",
    "        \n",
    "    return y"
   ]
  },
  {
   "cell_type": "code",
   "execution_count": 32,
   "metadata": {},
   "outputs": [],
   "source": [
    "def função_de_jong_step_func_4(input_pop_decimal_transposta):\n",
    "\n",
    "    y = []\n",
    "    \n",
    "    for individuo in input_pop_decimal_transposta:\n",
    "        de_jong_step_func_4 = 0\n",
    "        termo_1 = 0\n",
    "        termo_2 = random.gauss(0, 1)\n",
    "        for idx, xi in enumerate(individuo):\n",
    "            termo_1 = termo_1 + idx*(xi**4)\n",
    "        \n",
    "        \n",
    "        de_jong_step_func_4 = termo_1 + termo_2\n",
    "        y.append(de_jong_step_func_4)\n",
    "        \n",
    "    return y"
   ]
  },
  {
   "cell_type": "code",
   "execution_count": 33,
   "metadata": {},
   "outputs": [],
   "source": [
    "def função_schaffer(input_pop_decimal_transposta):\n",
    "\n",
    "    y = []\n",
    "    \n",
    "    for individuo in input_pop_decimal_transposta:\n",
    "        shaffer = 0\n",
    "        parentesis = 0\n",
    "        for xi in individuo:\n",
    "            parentesis = parentesis + xi**2\n",
    "            \n",
    "        termo_1 = parentesis**0.25\n",
    "        termo_2 = (((math.sin(50*(parentesis**0.1)))**2)+1)\n",
    "        schaffer = (termo_1 * termo_2)\n",
    "        \n",
    "        y.append(schaffer)\n",
    "        \n",
    "    return y    "
   ]
  },
  {
   "cell_type": "code",
   "execution_count": 34,
   "metadata": {},
   "outputs": [],
   "source": [
    "def função_7(input_pop_decimal_transposta):\n",
    "\n",
    "    y = []\n",
    " \n",
    "    for individuo in input_pop_decimal_transposta:\n",
    "        função_7 = 0\n",
    "        parentesis = 0\n",
    "        termo_1 = 0\n",
    "        termo_2 = 1\n",
    "        for xi in individuo:\n",
    "            parentesis = parentesis + xi**2\n",
    "            termo_2 = termo_2*(math.cos(20*math.pi*xi))\n",
    "        \n",
    "        termo_1 = parentesis/2\n",
    "        função_7 = termo_1 - termo_2 + 2\n",
    "        y.append(função_7)\n",
    "        \n",
    "    return y"
   ]
  },
  {
   "cell_type": "code",
   "execution_count": 35,
   "metadata": {},
   "outputs": [],
   "source": [
    "def função_schwefel(input_pop_decimal_transposta):\n",
    "    \n",
    "    y = []\n",
    "    \n",
    "    for individuo in input_pop_decimal_transposta:\n",
    "        \n",
    "        schwefel = 0\n",
    "        \n",
    "        for xi in individuo:         \n",
    "            schwefel = schwefel + ((xi + 0.5)**2)\n",
    "        \n",
    "        y.append(schwefel)\n",
    "        \n",
    "    return y"
   ]
  },
  {
   "cell_type": "code",
   "execution_count": 36,
   "metadata": {},
   "outputs": [],
   "source": [
    "def função_schwefel_12(input_pop_decimal_transposta):\n",
    "\n",
    "    y = []\n",
    " \n",
    "    for individuo in input_pop_decimal_transposta:\n",
    "        schwefel = 0\n",
    "        for idx, xi in enumerate(individuo):\n",
    "            schwefel = schwefel + (-xi*(math.sin(math.sqrt(abs(xi)))))\n",
    "        \n",
    "        y.append(schwefel/len(individuo)) # A divisão não faz parte da função, mas o seu resultado ótimo é um produto da quantidade de variáveis por indivíduo por -418.98288\n",
    "#         y.append(schwefel)\n",
    "    return y"
   ]
  },
  {
   "cell_type": "code",
   "execution_count": 37,
   "metadata": {},
   "outputs": [],
   "source": [
    "def função_griewangk(input_pop_decimal_transposta):\n",
    "\n",
    "    y = []\n",
    " \n",
    "    for individuo in input_pop_decimal_transposta:\n",
    "        griewangk = 0\n",
    "        termo_1 = 0\n",
    "        termo_2 = 1\n",
    "        for idx, xi in enumerate(individuo):\n",
    "            termo_1 = termo_1 + (xi**2)/4000\n",
    "            termo_2 = termo_2 * math.cos(xi/(math.sqrt(idx + 1)))\n",
    "            \n",
    "        griewangk = 1 + termo_1 - termo_2\n",
    "        y.append(griewangk)\n",
    "        \n",
    "    return y"
   ]
  },
  {
   "cell_type": "code",
   "execution_count": 38,
   "metadata": {},
   "outputs": [],
   "source": [
    "def função_bohachevsky(input_pop_decimal_transposta):\n",
    "\n",
    "    y = []\n",
    " \n",
    "    for individuo in input_pop_decimal_transposta:\n",
    "        bohachevsky = 0\n",
    "        termo_1 = 0\n",
    "        termo_2 = 0\n",
    "        for idx, xi in enumerate(individuo):\n",
    "            if idx == (len(individuo)-1):\n",
    "                break\n",
    "            termo_1 = (xi**2 + 2*((individuo[idx + 1])**2)-0.3*math.cos(3*math.pi*xi))\n",
    "            termo_2 = (-0.4*math.cos(4*math.pi*individuo[idx + 1]) + 0.7)\n",
    "            bohachevsky = bohachevsky + (termo_1 + termo_2)\n",
    "\n",
    "        y.append(bohachevsky)\n",
    "        \n",
    "    return y"
   ]
  },
  {
   "cell_type": "code",
   "execution_count": 39,
   "metadata": {},
   "outputs": [],
   "source": [
    "def função_ackley(input_pop_decimal_transposta):\n",
    "\n",
    "    y = []\n",
    " \n",
    "    for individuo in input_pop_decimal_transposta:\n",
    "        \n",
    "        ackley = 0       \n",
    "        soma_1 = 0\n",
    "        soma_2 = 0\n",
    "        \n",
    "        for xi in individuo:\n",
    "            soma_1 = soma_1 + xi**2\n",
    "            soma_2 = soma_2 + math.cos(2*math.pi*xi)\n",
    "            \n",
    "        termo_1 = -20*math.exp(-0.2*(math.sqrt(1/len(individuo)*soma_1)))\n",
    "        termo_2 = - math.exp((1/len(individuo))*soma_2)\n",
    "        \n",
    "        ackley = termo_1 + termo_2 + 20 + math.exp(1)\n",
    "        y.append(ackley)\n",
    "        \n",
    "    return y"
   ]
  },
  {
   "cell_type": "code",
   "execution_count": 40,
   "metadata": {},
   "outputs": [],
   "source": [
    "def função_schwefels_pro_12(input_pop_decimal_transposta):\n",
    "\n",
    "    y = []\n",
    "    schwefels = 0\n",
    "    \n",
    "    for individuo in input_pop_decimal_transposta:        \n",
    "        \n",
    "        schwefels = 0\n",
    "        termo_2 = 0\n",
    "        \n",
    "        for idx, xi in enumerate(individuo):\n",
    "            j = 0\n",
    "            termo_1 = 0\n",
    "            while j <= idx:\n",
    "                termo_1 = termo_1 + individuo[j]\n",
    "                j = j + 1\n",
    "            termo_2 = termo_1**2\n",
    "            schwefels = schwefels + termo_2\n",
    "            \n",
    "        y.append(schwefels)\n",
    "\n",
    "    return y"
   ]
  },
  {
   "cell_type": "markdown",
   "metadata": {},
   "source": [
    "# Validação do Código"
   ]
  },
  {
   "cell_type": "markdown",
   "metadata": {},
   "source": [
    "A quantidade de variáveis, intervalo e número de bits é definido pelo usuário de acordo com o problema ou pelos atributos de cada função teste. "
   ]
  },
  {
   "cell_type": "code",
   "execution_count": 5,
   "metadata": {},
   "outputs": [],
   "source": [
    "# Intervalo e número de bits por variável:\n",
    "\n",
    "variaveis = [[0, 1, 4],\n",
    "             [0, 1, 4],\n",
    "             [0, 1, 4],\n",
    "             [0, 1, 4]]"
   ]
  },
  {
   "cell_type": "markdown",
   "metadata": {},
   "source": [
    "Em seguida, os dicionários de conversão são criados."
   ]
  },
  {
   "cell_type": "markdown",
   "metadata": {},
   "source": [
    "intervalos, intervalos_invertidos = criação_intervalo(variaveis)"
   ]
  },
  {
   "cell_type": "markdown",
   "metadata": {},
   "source": [
    "O usuário define, também, os demais parâmetros e ajustes do algoritmo."
   ]
  },
  {
   "cell_type": "code",
   "execution_count": 43,
   "metadata": {},
   "outputs": [],
   "source": [
    "# Parâmetros\n",
    "\n",
    "vetor_n_bits = np.asarray(variaveis)[:, 2].astype(int)\n",
    "n_individuos = 100\n",
    "seed = 10\n",
    "input_método_seleção = método_seleção_torneio\n",
    "input_tipo_otimização = 'min'\n",
    "probabilidade_cruzamento = .6\n",
    "input_método_cruzamento = cruzamento_um_ponto # cruzamento_uniforme\n",
    "# input_método_cruzamento = cruzamento_uniforme\n",
    "input_método_mutação = mutação_um_ponto\n",
    "# input_método_mutação = reverse_sequencing_mutation\n",
    "input_probabilidade_mutação = 0.2\n",
    "input_função = função_ackley\n",
    "\n",
    "input_qtd_individuos_elitismo = int(.15*n_individuos)\n",
    "\n",
    "n_gen = 0\n",
    "n_max_gen = 100"
   ]
  },
  {
   "cell_type": "markdown",
   "metadata": {},
   "source": [
    "Execução do algoritmo."
   ]
  },
  {
   "cell_type": "code",
   "execution_count": 44,
   "metadata": {
    "scrolled": false
   },
   "outputs": [
    {
     "name": "stdout",
     "output_type": "stream",
     "text": [
      "Wall time: 8.01 ms\n"
     ]
    }
   ],
   "source": [
    "%%time\n",
    "\n",
    "media_resultados = []\n",
    "resultados = []\n",
    "\n",
    "# Evolução\n",
    "\n",
    "pop = iniciar_população(n_individuos, vetor_n_bits, seed)\n",
    "pop_decimal = binario2decimal(pop, intervalos_invertidos)\n",
    "fx_aux = funções(input_função, pop_decimal)"
   ]
  },
  {
   "cell_type": "code",
   "execution_count": 45,
   "metadata": {
    "scrolled": false
   },
   "outputs": [
    {
     "name": "stdout",
     "output_type": "stream",
     "text": [
      "O valor mínimo obtido foi 4.440892098500626e-16\n",
      "Os valores numéricos de entrada que trouxeram esse resultado foram [0. 0. 0. 0.]\n",
      "Wall time: 1.53 s\n"
     ]
    },
    {
     "data": {
      "image/png": "[encoded data removed]",
      "text/plain": [
       "<Figure size 432x288 with 1 Axes>"
      ]
     },
     "metadata": {
      "needs_background": "light"
     },
     "output_type": "display_data"
    },
    {
     "data": {
      "image/png": "[encoded data removed]",
      "text/plain": [
       "<Figure size 1440x720 with 1 Axes>"
      ]
     },
     "metadata": {
      "needs_background": "light"
     },
     "output_type": "display_data"
    },
    {
     "data": {
      "text/plain": [
       "<Figure size 1440x720 with 0 Axes>"
      ]
     },
     "metadata": {},
     "output_type": "display_data"
    }
   ],
   "source": [
    "%%time\n",
    "\n",
    "while n_gen < n_max_gen:\n",
    "    \n",
    "    # (1) Backup do resultado anterior (melhores indivíduos) para elitismo\n",
    "    \n",
    "    # Captura dos índices e resultados com melhor desempenho\n",
    "    if input_tipo_otimização == 'max':\n",
    "        fx_elite = sorted(fx_aux)[-int(input_qtd_individuos_elitismo):]\n",
    "        índices_elite = np.argsort(fx_aux)[-int(input_qtd_individuos_elitismo):]\n",
    "        \n",
    "    else:\n",
    "        fx_elite = sorted(fx_aux)[:int(input_qtd_individuos_elitismo)]\n",
    "        índices_elite = np.argsort(fx_aux)[:int(input_qtd_individuos_elitismo)]\n",
    "    \n",
    "    # Captura dos elementos da população com melhor desempenho\n",
    "    backup_pop_matriz = flat_pop(pop)\n",
    "    backup_pop_matriz_elite = []\n",
    "    \n",
    "    for índice_elite in índices_elite:\n",
    "        backup_pop_matriz_elite.append(backup_pop_matriz[índice_elite])   \n",
    "\n",
    "    # (2) Seleção\n",
    "    índices_pop_aux = seleção(input_método_seleção, fx_aux, input_tipo_otimização)\n",
    "   \n",
    "    # (3) Cruzamento\n",
    "    pop_aux = cruzamento(input_método_cruzamento, índices_pop_aux, pop, probabilidade_cruzamento)\n",
    "   \n",
    "    # (4) Mutação\n",
    "    pop_aux = mutação(input_método_mutação, pop_aux, input_probabilidade_mutação)\n",
    "  \n",
    "    # (5) Avaliação Parcial, pré-elitismo\n",
    "    pop = unflat_pop(pop_aux)\n",
    "    \n",
    "    pop_decimal = binario2decimal(pop, intervalos_invertidos)\n",
    "    fx_aux = funções(input_função, pop_decimal)\n",
    "  \n",
    "    # (6) Elitismo\n",
    "    pop_matriz_final = elitismo(fx_elite, backup_pop_matriz_elite, fx_aux, pop_aux, input_tipo_otimização, input_qtd_individuos_elitismo)\n",
    "   \n",
    "    # (5) Avaliação Final, pós-elitismo\n",
    "    pop = unflat_pop(pop_matriz_final)\n",
    "    pop_decimal = binario2decimal(pop, intervalos_invertidos)\n",
    "    fx_aux = funções(input_função, pop_decimal)\n",
    "   \n",
    "    # Resultados\n",
    "    media_resultados.append(np.mean(fx_aux))\n",
    "    if input_tipo_otimização == 'max':\n",
    "        resultados.append(max(fx_aux))\n",
    "        if n_gen == (n_max_gen - 1):\n",
    "            print('O valor máximo obtido foi', max(fx_aux))\n",
    "            print('Os valores numéricos de entrada que trouxeram esse resultado foram', transposta(pop_decimal)[np.argmax(fx_aux)])\n",
    "    else:\n",
    "        resultados.append(min(fx_aux))\n",
    "        if n_gen == (n_max_gen - 1):\n",
    "            print('O valor mínimo obtido foi', min(fx_aux))\n",
    "            print('Os valores numéricos de entrada que trouxeram esse resultado foram', transposta(pop_decimal)[np.argmin(fx_aux)])\n",
    "    \n",
    "    n_gen = n_gen + 1\n",
    "    \n",
    "plot_resultados(resultados, media_resultados)"
   ]
  },
  {
   "cell_type": "code",
   "execution_count": null,
   "metadata": {},
   "outputs": [],
   "source": []
  }
 ],
 "metadata": {
  "kernelspec": {
   "display_name": "Python 3.7.4 ('base')",
   "language": "python",
   "name": "python3"
  },
  "language_info": {
   "codemirror_mode": {
    "name": "ipython",
    "version": 3
   },
   "file_extension": ".py",
   "mimetype": "text/x-python",
   "name": "python",
   "nbconvert_exporter": "python",
   "pygments_lexer": "ipython3",
   "version": "3.7.4"
  },
  "vscode": {
   "interpreter": {
    "hash": "ad2bdc8ecc057115af97d19610ffacc2b4e99fae6737bb82f5d7fb13d2f2c186"
   }
  }
 },
 "nbformat": 4,
 "nbformat_minor": 2
}
